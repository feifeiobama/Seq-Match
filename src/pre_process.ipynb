{
 "cells": [
  {
   "cell_type": "code",
   "execution_count": 3,
   "metadata": {},
   "outputs": [],
   "source": [
    "import jieba\n",
    "import re\n",
    "from tqdm import tqdm\n",
    "import numpy as np\n",
    "import pickle\n",
    "\n",
    "path = '../data/'"
   ]
  },
  {
   "cell_type": "code",
   "execution_count": 8,
   "metadata": {},
   "outputs": [],
   "source": [
    "def process_lines(in_name, prefix):\n",
    "    f = open(path + in_name, 'r', encoding='utf-8')\n",
    "    out_question = open(path + prefix + 'q_out.csv', 'w', encoding='utf-8')\n",
    "    out_answer = open(path + prefix + 'a_out.csv', 'w', encoding='utf-8')\n",
    "    out_label = []\n",
    "    \n",
    "    cnt = 0\n",
    "    for line in tqdm(f):\n",
    "        line = line.strip()\n",
    "        l_ar = line.split(\"\\t\")\n",
    "        if len(l_ar) != 3:\n",
    "            continue\n",
    "        question = l_ar[0]\n",
    "        answer = l_ar[1]\n",
    "        _label = l_ar[2]\n",
    "\n",
    "        p = re.compile(u\"[\\u4e00-\\u9fa5]+\")\n",
    "        \n",
    "        ss = p.findall(question)\n",
    "        out_question.write(\"\".join(ss) + \"\\n\")\n",
    "        \n",
    "        ss = p.findall(answer)\n",
    "        out_answer.write(\"\".join(ss) + \"\\n\")\n",
    "        \n",
    "        label = 1 if _label == \"1\" else 0\n",
    "        out_label.append(label)\n",
    "        cnt = cnt + 1\n",
    "        \n",
    "    f.close()\n",
    "    out_question.close()\n",
    "    out_answer.close()\n",
    "    np.save(path + prefix + 'label.npy', np.array(out_label))\n",
    "    print('processed', cnt, 'lines')"
   ]
  },
  {
   "cell_type": "code",
   "execution_count": 10,
   "metadata": {},
   "outputs": [
    {
     "name": "stderr",
     "output_type": "stream",
     "text": [
      "264416it [00:02, 115343.60it/s]\n"
     ]
    },
    {
     "name": "stdout",
     "output_type": "stream",
     "text": [
      "processed 264416 lines\n"
     ]
    },
    {
     "name": "stderr",
     "output_type": "stream",
     "text": [
      "39997it [00:00, 44996.75it/s]\n"
     ]
    },
    {
     "name": "stdout",
     "output_type": "stream",
     "text": [
      "processed 39997 lines\n"
     ]
    }
   ],
   "source": [
    "process_lines('train-set.data', 'train_')\n",
    "process_lines('validation-set.data', 'val_')"
   ]
  },
  {
   "cell_type": "code",
   "execution_count": 4,
   "metadata": {},
   "outputs": [],
   "source": [
    "def segmentation(in_name, out_name):\n",
    "    in_data = open(path + in_name, 'r', encoding='utf-8')\n",
    "    out_data = open(path + out_name, 'w', encoding='utf-8')\n",
    "    \n",
    "    for line in tqdm(in_data):\n",
    "        line = line.strip()\n",
    "\n",
    "        seg_content = jieba.cut(line)\n",
    "        out_data.write(\" \".join(seg_content) + \"\\n\")\n",
    "        \n",
    "    in_data.close()\n",
    "    out_data.close()"
   ]
  },
  {
   "cell_type": "code",
   "execution_count": 16,
   "metadata": {},
   "outputs": [
    {
     "name": "stderr",
     "output_type": "stream",
     "text": [
      "264416it [00:23, 11098.62it/s]\n",
      "264416it [00:41, 6379.00it/s]\n",
      "39997it [00:02, 16354.95it/s]\n",
      "39997it [00:07, 5501.17it/s]\n"
     ]
    }
   ],
   "source": [
    "segmentation('train_q_out.csv', 'train_q_seg.csv')\n",
    "segmentation('train_a_out.csv', 'train_a_seg.csv')\n",
    "segmentation('val_q_out.csv', 'val_q_seg.csv')\n",
    "segmentation('val_a_out.csv', 'val_a_seg.csv')"
   ]
  },
  {
   "cell_type": "code",
   "execution_count": 4,
   "metadata": {},
   "outputs": [],
   "source": [
    "def train_word2vec():\n",
    "    import config\n",
    "    from gensim.models import word2vec\n",
    "    \n",
    "    data = []\n",
    "      \n",
    "    with open(path + 'train_q_seg.csv', 'r', encoding='utf-8') as in_f:\n",
    "        last_line = \"\"\n",
    "        for line in in_f:\n",
    "            if line != last_line:\n",
    "                data.append(line)\n",
    "            last_line = line\n",
    "    with open(path + 'train_a_seg.csv', 'r', encoding='utf-8') as in_f:\n",
    "        for line in in_f:\n",
    "            data.append(line)\n",
    "    \n",
    "    with open(path + 'train_seg.csv', 'w', encoding='utf-8') as out_f:\n",
    "        out_f.write(\"\".join(data))\n",
    "        \n",
    "    print(\"word seg processed\")\n",
    "    \n",
    "    sentences = word2vec.LineSentence(path + 'train_seg.csv')\n",
    "    model = word2vec.Word2Vec(sentences, size=config.features, min_count=config.min_count, workers=config.num_workers)\n",
    "    \n",
    "    model.save(path + 'word2vec.model')"
   ]
  },
  {
   "cell_type": "code",
   "execution_count": 5,
   "metadata": {},
   "outputs": [
    {
     "name": "stdout",
     "output_type": "stream",
     "text": [
      "word seg processed\n"
     ]
    }
   ],
   "source": [
    "train_word2vec()"
   ]
  },
  {
   "cell_type": "code",
   "execution_count": 4,
   "metadata": {},
   "outputs": [],
   "source": [
    "import config\n",
    "\n",
    "def convert_pkl(name):\n",
    "    in_f = open(path + name + '_seg.csv', 'r', encoding='utf-8')\n",
    "    data = []\n",
    "    for line in in_f:\n",
    "        word_set = line.split(' ')\n",
    "        word_set[-1] = word_set[-1].strip()\n",
    "        if len(word_set) > config.max_length:\n",
    "            word_set = word_set[:config.max_length]\n",
    "        line = \" \".join(word_set)\n",
    "        data.append(line + \"\\n\")\n",
    "    in_f.close()\n",
    "    \n",
    "    out_f = open(path + name + '.pkl', 'wb')\n",
    "    pickle.dump(data, out_f)"
   ]
  },
  {
   "cell_type": "code",
   "execution_count": 5,
   "metadata": {},
   "outputs": [],
   "source": [
    "convert_pkl('train_q')\n",
    "convert_pkl('train_a')\n",
    "convert_pkl('val_q')\n",
    "convert_pkl('val_a')"
   ]
  },
  {
   "cell_type": "code",
   "execution_count": 3,
   "metadata": {},
   "outputs": [
    {
     "name": "stderr",
     "output_type": "stream",
     "text": [
      "D:\\MiniConda\\lib\\site-packages\\gensim\\utils.py:1209: UserWarning: detected Windows; aliasing chunkize to chunkize_serial\n",
      "  warnings.warn(\"detected Windows; aliasing chunkize to chunkize_serial\")\n"
     ]
    },
    {
     "data": {
      "text/plain": [
       "1"
      ]
     },
     "execution_count": 3,
     "metadata": {},
     "output_type": "execute_result"
    }
   ],
   "source": [
    "from gensim.models import word2vec\n",
    "word2vec.FAST_VERSION"
   ]
  },
  {
   "cell_type": "code",
   "execution_count": null,
   "metadata": {},
   "outputs": [],
   "source": []
  }
 ],
 "metadata": {
  "kernelspec": {
   "display_name": "Python 3",
   "language": "python",
   "name": "python3"
  },
  "language_info": {
   "codemirror_mode": {
    "name": "ipython",
    "version": 3
   },
   "file_extension": ".py",
   "mimetype": "text/x-python",
   "name": "python",
   "nbconvert_exporter": "python",
   "pygments_lexer": "ipython3",
   "version": "3.6.6"
  }
 },
 "nbformat": 4,
 "nbformat_minor": 2
}
