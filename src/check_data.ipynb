{
 "cells": [
  {
   "cell_type": "code",
   "execution_count": 1,
   "metadata": {},
   "outputs": [],
   "source": [
    "import numpy as np\n",
    "path = '../data/'"
   ]
  },
  {
   "cell_type": "code",
   "execution_count": 3,
   "metadata": {},
   "outputs": [],
   "source": [
    "def sample_original_data(num):\n",
    "    sampled_lines = []\n",
    "    with open(path + 'train-set.data', 'r', encoding='utf-8') as f:\n",
    "        for i in range(num):\n",
    "            sampled_lines.append(f.readline())\n",
    "    return sampled_lines"
   ]
  },
  {
   "cell_type": "code",
   "execution_count": null,
   "metadata": {},
   "outputs": [
    {
     "name": "stdout",
     "output_type": "stream",
     "text": [
      "['腾讯在线教育由哪几个部分组成？\\t腾讯控股有限公司，简称腾讯，是一家民营IT企业，总部位于中国广东深圳，于2004年6月16日在香港交易所上市。\\t0\\n', '腾讯在线教育由哪几个部分组成？\\t公司在开曼群岛注册，董事会主席兼首席执行官为马化腾。\\t0\\n', '腾讯在线教育由哪几个部分组成？\\t腾讯以即时通讯工具QQ为其产品核心，附带游戏平台QQ游戏，门户网站腾讯网，交易平台拍拍网等产品。\\t0\\n', '腾讯在线教育由哪几个部分组成？\\t其主要产品腾讯QQ在中国年轻人中有较大影响。\\t0\\n', '腾讯在线教育由哪几个部分组成？\\t门户网站腾讯网为国内四大门户网站。\\t0\\n', '腾讯在线教育由哪几个部分组成？\\t2014年3月10日，腾讯以2.14亿美元入股京东15%的股份，而京东将收购腾讯B2C平台QQ网购和C2C平台拍拍网的100%权益、物流人员和资产，以及易迅网的少数股权和购买易迅网剩余股权的权利。\\t0\\n', '腾讯在线教育由哪几个部分组成？\\t4月18日，3Q大战又迎来一场审判。\\t0\\n', '腾讯在线教育由哪几个部分组成？\\t北京市西城法院对360诉腾讯名誉侵权案做出一审判决，判定腾讯公司败诉，并判罚其在腾讯网首页向360公司公开道歉7天。\\t0\\n', '腾讯在线教育由哪几个部分组成？\\tqq腾讯控股有限公司，简称腾讯，是一家民营IT企业，总部位于中国广东深圳，于2004年6月16日在香港交易所上市。\\t0\\n', '腾讯在线教育由哪几个部分组成？\\t公司在开曼群岛注册，董事会主席兼首席执行官为马化腾[1]。\\t0\\n']\n"
     ]
    }
   ],
   "source": [
    "sampled_data = sample_original_data(10)\n",
    "print(sampled_data)"
   ]
  },
  {
   "cell_type": "code",
   "execution_count": 12,
   "metadata": {},
   "outputs": [],
   "source": [
    "def sample_lines(num):\n",
    "    sampled_lines = []\n",
    "    labels = np.load(path + 'label.npy')\n",
    "    questions = open(path + 'train_q_out.csv', 'r', encoding='utf-8')\n",
    "    answers = open(path + 'train_a_out.csv', 'r', encoding='utf-8')\n",
    "    \n",
    "    for i in range(num):\n",
    "        sampled_lines.append([questions.readline(), answers.readline(), labels[i]])\n",
    "        \n",
    "    questions.close()\n",
    "    answers.close()\n",
    "    return sampled_lines"
   ]
  },
  {
   "cell_type": "code",
   "execution_count": 13,
   "metadata": {},
   "outputs": [
    {
     "name": "stdout",
     "output_type": "stream",
     "text": [
      "[['腾讯在线教育由哪几个部分组成\\n', '腾讯控股有限公司简称腾讯是一家民营企业总部位于中国广东深圳于年月日在香港交易所上市\\n', 0], ['腾讯在线教育由哪几个部分组成\\n', '公司在开曼群岛注册董事会主席兼首席执行官为马化腾\\n', 0], ['腾讯在线教育由哪几个部分组成\\n', '腾讯以即时通讯工具为其产品核心附带游戏平台游戏门户网站腾讯网交易平台拍拍网等产品\\n', 0], ['腾讯在线教育由哪几个部分组成\\n', '其主要产品腾讯在中国年轻人中有较大影响\\n', 0], ['腾讯在线教育由哪几个部分组成\\n', '门户网站腾讯网为国内四大门户网站\\n', 0], ['腾讯在线教育由哪几个部分组成\\n', '年月日腾讯以亿美元入股京东的股份而京东将收购腾讯平台网购和平台拍拍网的权益物流人员和资产以及易迅网的少数股权和购买易迅网剩余股权的权利\\n', 0], ['腾讯在线教育由哪几个部分组成\\n', '月日大战又迎来一场审判\\n', 0], ['腾讯在线教育由哪几个部分组成\\n', '北京市西城法院对诉腾讯名誉侵权案做出一审判决判定腾讯公司败诉并判罚其在腾讯网首页向公司公开道歉天\\n', 0], ['腾讯在线教育由哪几个部分组成\\n', '腾讯控股有限公司简称腾讯是一家民营企业总部位于中国广东深圳于年月日在香港交易所上市\\n', 0], ['腾讯在线教育由哪几个部分组成\\n', '公司在开曼群岛注册董事会主席兼首席执行官为马化腾\\n', 0]]\n"
     ]
    }
   ],
   "source": [
    "sampled_lines = sample_lines(10)\n",
    "print(sampled_lines)"
   ]
  },
  {
   "cell_type": "code",
   "execution_count": 14,
   "metadata": {},
   "outputs": [],
   "source": [
    "def sample_segement_data(num):\n",
    "    sampled_lines = []\n",
    "    labels = np.load(path + 'label.npy')\n",
    "    questions = open(path + 'train_q_seg.csv', 'r', encoding='utf-8')\n",
    "    answers = open(path + 'train_a_seg.csv', 'r', encoding='utf-8')\n",
    "    \n",
    "    for i in range(num):\n",
    "        sampled_lines.append([questions.readline(), answers.readline(), labels[i]])\n",
    "        \n",
    "    questions.close()\n",
    "    answers.close()\n",
    "    return sampled_lines"
   ]
  },
  {
   "cell_type": "code",
   "execution_count": 15,
   "metadata": {},
   "outputs": [
    {
     "name": "stdout",
     "output_type": "stream",
     "text": [
      "[['腾讯 在线教育 由 哪几个 部分 组成\\n', '腾讯 控股 有限公司 简称 腾讯 是 一家 民营企业 总部 位于 中国 广东 深圳 于 年月日 在 香港 交易所 上市\\n', 0], ['腾讯 在线教育 由 哪几个 部分 组成\\n', '公司 在 开曼群岛 注册 董事会 主席 兼 首席 执行官 为 马化腾\\n', 0], ['腾讯 在线教育 由 哪几个 部分 组成\\n', '腾讯 以 即时通讯 工具 为 其 产品 核心 附带 游戏 平台 游戏 门户网站 腾讯网 交易平台 拍拍网 等 产品\\n', 0], ['腾讯 在线教育 由 哪几个 部分 组成\\n', '其 主要 产品 腾讯 在 中国 年轻人 中有 较大 影响\\n', 0], ['腾讯 在线教育 由 哪几个 部分 组成\\n', '门户网站 腾讯网 为 国内 四大 门户网站\\n', 0], ['腾讯 在线教育 由 哪几个 部分 组成\\n', '年月日 腾讯 以 亿美元 入股 京东 的 股份 而 京东 将 收购 腾讯 平台 网购 和 平台 拍拍网 的 权益 物流 人员 和 资产 以及 易 迅网 的 少数 股权 和 购买 易 迅网 剩余 股权 的 权利\\n', 0], ['腾讯 在线教育 由 哪几个 部分 组成\\n', '月 日 大战 又 迎来 一场 审判\\n', 0], ['腾讯 在线教育 由 哪几个 部分 组成\\n', '北京市 西城 法院 对诉 腾讯 名誉 侵权案 做出 一审判决 判定 腾讯 公司 败诉 并 判罚 其 在 腾讯网 首页 向 公司 公开 道歉 天\\n', 0], ['腾讯 在线教育 由 哪几个 部分 组成\\n', '腾讯 控股 有限公司 简称 腾讯 是 一家 民营企业 总部 位于 中国 广东 深圳 于 年月日 在 香港 交易所 上市\\n', 0], ['腾讯 在线教育 由 哪几个 部分 组成\\n', '公司 在 开曼群岛 注册 董事会 主席 兼 首席 执行官 为 马化腾\\n', 0]]\n"
     ]
    }
   ],
   "source": [
    "sampled_pairs = sample_segement_data(10)\n",
    "print(sampled_pairs)"
   ]
  },
  {
   "cell_type": "code",
   "execution_count": 13,
   "metadata": {},
   "outputs": [],
   "source": [
    "def sample_vectors(num):\n",
    "    from gensim.models import word2vec\n",
    "    import pickle\n",
    "    \n",
    "    in_f = open(path + 'val_q.pkl', 'rb')\n",
    "    data = pickle.load(in_f)\n",
    "    in_f.close()\n",
    "    \n",
    "    model = word2vec.Word2Vec.load(path + 'word2vec.model')\n",
    "    sampled_vectors = []\n",
    "    empty_word = np.zeros(200).astype(np.float32)\n",
    "    for i in range(num):\n",
    "        line = data[i]\n",
    "        line_vector = []\n",
    "        words = line.split(' ')\n",
    "        for word in words:\n",
    "            word = word.strip()\n",
    "            if model.wv.__contains__(word):\n",
    "                line_vector.append(model.wv.__getitem__(word))\n",
    "            else:\n",
    "                line_vector.append(empty_word)\n",
    "        line_vector = np.array(line_vector)\n",
    "        sampled_vectors.append([line, line_vector])\n",
    "    return sampled_vectors"
   ]
  },
  {
   "cell_type": "code",
   "execution_count": 14,
   "metadata": {},
   "outputs": [
    {
     "name": "stdout",
     "output_type": "stream",
     "text": [
      "[['年 字 有 多少 笔\\n', array([[ 9.6660659e-02,  6.5743536e-02, -8.3882123e-02, ...,\n",
      "         1.0957060e+00, -1.3552715e+00,  1.0945822e+00],\n",
      "       [ 3.5941347e-01, -4.3841967e-04,  4.2466038e-01, ...,\n",
      "         1.3305953e-01, -6.9392526e-01,  1.2897539e-01],\n",
      "       [ 5.2426630e-01,  8.5456997e-01,  1.9087760e+00, ...,\n",
      "        -5.7805908e-01, -9.5215988e-01,  4.3758520e-01],\n",
      "       [ 1.5180392e+00,  7.9484504e-01, -7.4736625e-01, ...,\n",
      "         4.4567326e-01, -6.5676743e-01, -4.9776742e-01],\n",
      "       [ 3.1888193e-01,  9.7686425e-02,  2.1246259e-01, ...,\n",
      "         2.9177079e-01, -7.2609305e-02, -5.9082557e-02]], dtype=float32)]]\n"
     ]
    }
   ],
   "source": [
    "sampled_vectors = sample_vectors(1)\n",
    "print(sampled_vectors)"
   ]
  },
  {
   "cell_type": "code",
   "execution_count": 2,
   "metadata": {},
   "outputs": [],
   "source": [
    "import loader\n",
    "import config\n",
    "train_loader, validation_loader = loader.get_loaders()"
   ]
  },
  {
   "cell_type": "code",
   "execution_count": 6,
   "metadata": {},
   "outputs": [
    {
     "name": "stdout",
     "output_type": "stream",
     "text": [
      "torch.Size([32, 12, 300])\n",
      "torch.Size([32, 57, 300])\n",
      "torch.Size([32])\n",
      "torch.Size([32, 11, 300])\n",
      "torch.Size([32, 33, 300])\n",
      "torch.Size([32])\n",
      "torch.Size([32, 10, 300])\n",
      "torch.Size([32, 57, 300])\n",
      "torch.Size([32])\n",
      "torch.Size([32, 9, 300])\n",
      "torch.Size([32, 57, 300])\n",
      "torch.Size([32])\n",
      "torch.Size([32, 15, 300])\n",
      "torch.Size([32, 50, 300])\n",
      "torch.Size([32])\n",
      "torch.Size([32, 13, 300])\n",
      "torch.Size([32, 57, 300])\n",
      "torch.Size([32])\n",
      "torch.Size([32, 13, 300])\n",
      "torch.Size([32, 47, 300])\n",
      "torch.Size([32])\n",
      "torch.Size([32, 14, 300])\n",
      "torch.Size([32, 49, 300])\n",
      "torch.Size([32])\n",
      "torch.Size([32, 10, 300])\n",
      "torch.Size([32, 57, 300])\n",
      "torch.Size([32])\n",
      "torch.Size([32, 14, 300])\n",
      "torch.Size([32, 57, 300])\n",
      "torch.Size([32])\n"
     ]
    }
   ],
   "source": [
    "def test_data_loader(num):\n",
    "    for i, (q, a, l) in enumerate(validation_loader):\n",
    "        if i >= num:\n",
    "            break\n",
    "        print(q.shape)\n",
    "        print(a.shape)\n",
    "        print(l.shape)\n",
    "\n",
    "test_data_loader(10)"
   ]
  },
  {
   "cell_type": "code",
   "execution_count": 34,
   "metadata": {},
   "outputs": [
    {
     "name": "stdout",
     "output_type": "stream",
     "text": [
      "0.05135846544838436\n"
     ]
    }
   ],
   "source": [
    "labels = np.load(path + 'label.npy')\n",
    "print(labels.sum() / labels.size)"
   ]
  },
  {
   "cell_type": "code",
   "execution_count": 3,
   "metadata": {},
   "outputs": [],
   "source": [
    "line_lengths = []\n",
    "with open(path + 'train_q_seg.csv', encoding='utf-8') as f:\n",
    "    for line in f:\n",
    "        l = len(line.split(' '))\n",
    "        line_lengths += [l]\n",
    "with open(path + 'train_a_seg.csv', encoding='utf-8') as f:\n",
    "    for line in f:\n",
    "        l = len(line.split(' '))\n",
    "        line_lengths += [l]\n",
    "line_lengths = np.array(line_lengths)"
   ]
  },
  {
   "cell_type": "code",
   "execution_count": 4,
   "metadata": {},
   "outputs": [
    {
     "data": {
      "text/plain": [
       "0.009766806849812416"
      ]
     },
     "execution_count": 4,
     "metadata": {},
     "output_type": "execute_result"
    }
   ],
   "source": [
    "len(line_lengths[line_lengths > 57]) / len(line_lengths)"
   ]
  },
  {
   "cell_type": "code",
   "execution_count": 7,
   "metadata": {},
   "outputs": [
    {
     "data": {
      "text/plain": [
       "14350"
      ]
     },
     "execution_count": 7,
     "metadata": {},
     "output_type": "execute_result"
    }
   ],
   "source": [
    "len(line_lengths[line_lengths <= 1])"
   ]
  },
  {
   "cell_type": "code",
   "execution_count": 7,
   "metadata": {},
   "outputs": [],
   "source": [
    "from gensim.models import word2vec\n",
    "model = word2vec.Word2Vec.load(path + 'word2vec.model')"
   ]
  },
  {
   "cell_type": "code",
   "execution_count": 11,
   "metadata": {},
   "outputs": [
    {
     "name": "stderr",
     "output_type": "stream",
     "text": [
      "D:\\MiniConda\\lib\\site-packages\\ipykernel_launcher.py:1: DeprecationWarning: Call to deprecated `most_similar` (Method will be removed in 4.0.0, use self.wv.most_similar() instead).\n",
      "  \"\"\"Entry point for launching an IPython kernel.\n"
     ]
    },
    {
     "data": {
      "text/plain": [
       "[('她', 0.8894814252853394),\n",
       " ('他们', 0.8405892848968506),\n",
       " ('两人', 0.7769461870193481),\n",
       " ('自己', 0.7659239768981934),\n",
       " ('父母', 0.7540255188941956),\n",
       " ('光棍', 0.7496684789657593),\n",
       " ('父亲', 0.7484448552131653),\n",
       " ('却', 0.7416080236434937),\n",
       " ('丈夫', 0.7406786680221558),\n",
       " ('她们', 0.7377887964248657)]"
      ]
     },
     "execution_count": 11,
     "metadata": {},
     "output_type": "execute_result"
    }
   ],
   "source": [
    "model.most_similar(u'他')"
   ]
  },
  {
   "cell_type": "code",
   "execution_count": null,
   "metadata": {},
   "outputs": [],
   "source": []
  }
 ],
 "metadata": {
  "kernelspec": {
   "display_name": "Python 3",
   "language": "python",
   "name": "python3"
  },
  "language_info": {
   "codemirror_mode": {
    "name": "ipython",
    "version": 3
   },
   "file_extension": ".py",
   "mimetype": "text/x-python",
   "name": "python",
   "nbconvert_exporter": "python",
   "pygments_lexer": "ipython3",
   "version": "3.6.6"
  }
 },
 "nbformat": 4,
 "nbformat_minor": 2
}
